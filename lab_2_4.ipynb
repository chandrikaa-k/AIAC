{
  "nbformat": 4,
  "nbformat_minor": 0,
  "metadata": {
    "colab": {
      "provenance": [],
      "authorship_tag": "ABX9TyP/eK907IDYak1/66tcBnym",
      "include_colab_link": true
    },
    "kernelspec": {
      "name": "python3",
      "display_name": "Python 3"
    },
    "language_info": {
      "name": "python"
    }
  },
  "cells": [
    {
      "cell_type": "markdown",
      "metadata": {
        "id": "view-in-github",
        "colab_type": "text"
      },
      "source": [
        "<a href=\"https://colab.research.google.com/github/chandrikaa-k/AIAC/blob/main/lab_2_4.ipynb\" target=\"_parent\"><img src=\"https://colab.research.google.com/assets/colab-badge.svg\" alt=\"Open In Colab\"/></a>"
      ]
    },
    {
      "cell_type": "code",
      "execution_count": 2,
      "metadata": {
        "id": "SovRIBxWN3Ah"
      },
      "outputs": [],
      "source": []
    },
    {
      "cell_type": "markdown",
      "source": [
        "task 0:\n",
        "write a python function to verify if the given number is odd or even\n",
        "\n",
        "---\n",
        "prompt:\n",
        "generate a python function that takes a dynamic input of a number and returns if its even or odd\n"
      ],
      "metadata": {
        "id": "QbwFWU1iOmZp"
      }
    },
    {
      "cell_type": "code",
      "source": [
        "def is_odd_or_even(number):\n",
        "  \"\"\"\n",
        "  Checks if a given number is odd or even.\n",
        "\n",
        "  Args:\n",
        "    number: The number to check.\n",
        "\n",
        "  Returns:\n",
        "    A string indicating if the number is \"Odd\" or \"Even\".\n",
        "  \"\"\"\n",
        "  if number % 2 == 0:\n",
        "    return \"Even\"\n",
        "  else:\n",
        "    return \"Odd\"\n",
        "\n",
        "# Example usage:\n",
        "num = 10\n",
        "print(f\"{num} is {is_odd_or_even(num)}\")\n",
        "\n",
        "num = 7\n",
        "print(f\"{num} is {is_odd_or_even(num)}\")"
      ],
      "metadata": {
        "colab": {
          "base_uri": "https://localhost:8080/"
        },
        "id": "Z1B-SEpKP-h6",
        "outputId": "8e928374-06a4-4c3c-b927-c9d6208962c8"
      },
      "execution_count": 3,
      "outputs": [
        {
          "output_type": "stream",
          "name": "stdout",
          "text": [
            "10 is Even\n",
            "7 is Odd\n"
          ]
        }
      ]
    },
    {
      "cell_type": "markdown",
      "source": [
        "if number % 2 == 0:\n",
        "    return \"Even\"\n",
        "  else:\n",
        "    return \"Odd\"\n",
        "\n",
        "Here's a breakdown:\n",
        "\n",
        "def is_odd_or_even(number):: This line defines the function named is_odd_or_even that takes one argument, number.\n",
        "\"\"\"Docstring\"\"\": This is a docstring, which explains what the function does, its arguments, and what it returns.\n",
        "if number % 2 == 0:: This is an if statement that checks if the remainder of the number divided by 2 is equal to 0. If it is, the number is even.\n",
        "return \"Even\": If the number is even, the function returns the string \"Even\".\n",
        "else:: If the condition in the if statement is not true (i.e., the remainder is not 0), the code in the else block is executed.\n",
        "return \"Odd\": If the number is not even, it must be odd, so the function returns the string \"Odd\".\n"
      ],
      "metadata": {
        "id": "S4JUB04fR7U9"
      }
    },
    {
      "cell_type": "markdown",
      "source": [
        "task 1:\n",
        "Write Python code that sorts a list in two ways\n",
        "\n",
        "---\n",
        "\n",
        "prompt:\n",
        "Write Python code that sorts a list in two ways\n",
        "Using bubble sort algorithm (manual implementation) Using Python's built-in sort() method\n",
        "Print both sorted lists for comparison\n",
        "\n"
      ],
      "metadata": {
        "id": "GDiUOoLZVLQw"
      }
    },
    {
      "cell_type": "code",
      "source": [
        "def bubble_sort(lst):\n",
        "    \"\"\"\n",
        "    Sorts a list using the bubble sort algorithm.\n",
        "    \"\"\"\n",
        "    n = len(lst)\n",
        "    for i in range(n):\n",
        "        for j in range(0, n - i - 1):\n",
        "            if lst[j] > lst[j + 1]:\n",
        "                lst[j], lst[j + 1] = lst[j + 1], lst[j]\n",
        "    return lst\n",
        "\n",
        "# Original list\n",
        "my_list = [64, 34, 25, 12, 22, 11, 90]\n",
        "\n",
        "# Sort using bubble sort\n",
        "list_bubble_sorted = my_list[:] # Create a copy to avoid modifying the original list\n",
        "bubble_sort(list_bubble_sorted)\n",
        "print(f\"List sorted with bubble sort: {list_bubble_sorted}\")\n",
        "\n",
        "# Sort using built-in sort() method\n",
        "list_built_in_sorted = my_list[:] # Create a copy to avoid modifying the original list\n",
        "list_built_in_sorted.sort()\n",
        "print(f\"List sorted with built-in sort(): {list_built_in_sorted}\")"
      ],
      "metadata": {
        "colab": {
          "base_uri": "https://localhost:8080/"
        },
        "id": "Lnau9lmCVu4r",
        "outputId": "c23cf892-e492-4879-afb1-eac2c97d3aa1"
      },
      "execution_count": 4,
      "outputs": [
        {
          "output_type": "stream",
          "name": "stdout",
          "text": [
            "List sorted with bubble sort: [11, 12, 22, 25, 34, 64, 90]\n",
            "List sorted with built-in sort(): [11, 12, 22, 25, 34, 64, 90]\n"
          ]
        }
      ]
    },
    {
      "cell_type": "markdown",
      "source": [
        "**explaination:**\n",
        "bubble_sort(lst) function:\n",
        "This function takes a list lst as input.\n",
        "It implements the bubble sort algorithm, which repeatedly steps through the list, compares adjacent elements, and swaps them if they are in the wrong order.\n",
        "The outer loop runs n times (where n is the length of the list), and the inner loop iterates through the unsorted portion of the list.\n",
        "It returns the sorted list.\n",
        "Original list:\n",
        "my_list = [64, 34, 25, 12, 22, 11, 90] initializes a list with some unsorted numbers.\n",
        "Sorting with bubble sort:\n",
        "list_bubble_sorted = my_list[:] creates a copy of my_list to avoid modifying the original list.\n",
        "bubble_sort(list_bubble_sorted) calls the bubble_sort function to sort the copied list.\n",
        "print(f\"List sorted with bubble sort: {list_bubble_sorted}\") prints the list sorted using bubble sort.\n",
        "Sorting with built-in sort() method:\n",
        "list_built_in_sorted = my_list[:] creates another copy of my_list.\n",
        "list_built_in_sorted.sort() uses Python's built-in sort() method to sort the list in place.\n",
        "print(f\"List sorted with built-in sort(): {list_built_in_sorted}\") prints the list sorted using the built-in method.\n"
      ],
      "metadata": {
        "id": "aOVb1RHMWO2l"
      }
    },
    {
      "cell_type": "markdown",
      "source": [],
      "metadata": {
        "id": "BHynHlbTWcwu"
      }
    },
    {
      "cell_type": "code",
      "source": [],
      "metadata": {
        "id": "7f2nZe3aVnmx"
      },
      "execution_count": 4,
      "outputs": []
    },
    {
      "cell_type": "markdown",
      "source": [
        "task 2:\n",
        "Write a Python function that takes a string and returns: Number of vowels Number of consonants Number of digits texts the function with an example string and print the results\n",
        "\n",
        "\n",
        "\n",
        "---\n",
        "prompt:\n",
        "Write a Python function that takes a string and returns: Number of vowels Number of consonants Number of digits texts the function with an example string and print the results\n",
        "\n",
        "\n"
      ],
      "metadata": {
        "id": "8Lzih_R6Wu2f"
      }
    },
    {
      "cell_type": "code",
      "source": [
        "def count_chars(input_string):\n",
        "  \"\"\"\n",
        "  Counts the number of vowels, consonants, and digits in a string.\n",
        "\n",
        "  Args:\n",
        "    input_string: The string to analyze.\n",
        "\n",
        "  Returns:\n",
        "    A tuple containing the counts of vowels, consonants, and digits.\n",
        "  \"\"\"\n",
        "  vowels = \"aeiouAEIOU\"\n",
        "  consonants = \"bcdfghjklmnpqrstvwxyzBCDFGHJKLMNPQRSTVWXYZ\"\n",
        "  digits = \"0123456789\"\n",
        "\n",
        "  vowel_count = 0\n",
        "  consonant_count = 0\n",
        "  digit_count = 0\n",
        "\n",
        "  for char in input_string:\n",
        "    if char in vowels:\n",
        "      vowel_count += 1\n",
        "    elif char in consonants:\n",
        "      consonant_count += 1\n",
        "    elif char in digits:\n",
        "      digit_count += 1\n",
        "\n",
        "  return vowel_count, consonant_count, digit_count\n",
        "\n",
        "# Example usage:\n",
        "example_string = \"Hello World 123!\"\n",
        "vowels, consonants, digits = count_chars(example_string)\n",
        "\n",
        "print(f\"Original string: {example_string}\")\n",
        "print(f\"Number of vowels: {vowels}\")\n",
        "print(f\"Number of consonants: {consonants}\")\n",
        "print(f\"Number of digits: {digits}\")"
      ],
      "metadata": {
        "colab": {
          "base_uri": "https://localhost:8080/"
        },
        "id": "oLxvByF2W41e",
        "outputId": "63a08d7c-93c3-49b6-d98e-02af9885e5f1"
      },
      "execution_count": 5,
      "outputs": [
        {
          "output_type": "stream",
          "name": "stdout",
          "text": [
            "Original string: Hello World 123!\n",
            "Number of vowels: 3\n",
            "Number of consonants: 7\n",
            "Number of digits: 3\n"
          ]
        }
      ]
    },
    {
      "cell_type": "markdown",
      "source": [
        "**explaination:**\n",
        "\n",
        "\n",
        "\n",
        "---\n",
        "\n",
        "count_chars(input_string) function:\n",
        "This function takes a single argument, input_string, which is the string to be analyzed.\n",
        "It initializes three strings: vowels, consonants, and digits containing the characters to be matched.\n",
        "It initializes three counters: vowel_count, consonant_count, and digit_count to 0.\n",
        "Iterating through the string:\n",
        "The for char in input_string: loop iterates through each character in the input string.\n",
        "Checking character type:\n",
        "if char in vowels:: If the current character char is found within the vowels string, the vowel_count is incremented by 1.\n",
        "elif char in consonants:: If the character is not a vowel but is found within the consonants string, the consonant_count is incremented by 1.\n",
        "elif char in digits:: If the character is neither a vowel nor a consonant but is found within the digits string, the digit_count is incremented by 1.\n",
        "Returning the counts:\n",
        "return vowel_count, consonant_count, digit_count: The function returns a tuple containing the final counts of vowels, consonants, and digits.\n",
        "\n"
      ],
      "metadata": {
        "id": "WmQTITp-WVZd"
      }
    },
    {
      "cell_type": "code",
      "source": [],
      "metadata": {
        "id": "cNhzRvKfSPZL"
      },
      "execution_count": 4,
      "outputs": []
    },
    {
      "cell_type": "markdown",
      "source": [
        "task3: Write Python code to:\n",
        "\n",
        "prompt: Write Python code to: Create a text file Write some sample text into it Read the text from the file and display it"
      ],
      "metadata": {
        "id": "rZXAQVTfXoVJ"
      }
    },
    {
      "cell_type": "code",
      "source": [
        "# Define the filename\n",
        "filename = \"my_sample_file.txt\"\n",
        "\n",
        "# Sample text to write to the file\n",
        "sample_text = \"This is some sample text that will be written to the file.\\nThis is the second line.\"\n",
        "\n",
        "# Write to the file\n",
        "try:\n",
        "    with open(filename, \"w\") as file:\n",
        "        file.write(sample_text)\n",
        "    print(f\"Successfully wrote to '{filename}'\")\n",
        "except IOError as e:\n",
        "    print(f\"Error writing to file: {e}\")\n",
        "\n",
        "# Read from the file and display the content\n",
        "try:\n",
        "    with open(filename, \"r\") as file:\n",
        "        file_content = file.read()\n",
        "    print(f\"\\nContent of '{filename}':\")\n",
        "    print(file_content)\n",
        "except IOError as e:\n",
        "    print(f\"Error reading from file: {e}\")"
      ],
      "metadata": {
        "colab": {
          "base_uri": "https://localhost:8080/"
        },
        "id": "GKj1-x7hX2SR",
        "outputId": "6b9692a5-80c2-4c35-8476-d56c83137548"
      },
      "execution_count": 6,
      "outputs": [
        {
          "output_type": "stream",
          "name": "stdout",
          "text": [
            "Successfully wrote to 'my_sample_file.txt'\n",
            "\n",
            "Content of 'my_sample_file.txt':\n",
            "This is some sample text that will be written to the file.\n",
            "This is the second line.\n"
          ]
        }
      ]
    },
    {
      "cell_type": "markdown",
      "source": [],
      "metadata": {
        "id": "zROrUln-XVzL"
      }
    },
    {
      "cell_type": "markdown",
      "source": [
        "**explaination:**\n",
        "\n",
        "\n",
        "---\n",
        "\n",
        "filename = \"my_sample_file.txt\": This line defines a variable filename and assigns the name of the text file to it.\n",
        "sample_text = \"This is some sample text that will be written to the file.\\nThis is the second line.\": This line defines a variable sample_text containing the content that will be written to the file. The \\n creates a new line within the text.\n",
        "Writing to the file:\n",
        "try...except IOError as e:: This block handles potential IOError exceptions that might occur during file operations (e.g., permission issues).\n",
        "with open(filename, \"w\") as file:: This opens the specified file in write mode (\"w\"). If the file doesn't exist, it will be created. If it exists, its content will be overwritten. The with statement ensures the file is automatically closed even if errors occur. The opened file object is assigned to the variable file.\n",
        "file.write(sample_text): This writes the content of the sample_text variable to the file.\n",
        "print(f\"Successfully wrote to '{filename}'\"): If the writing is successful, this message is printed.\n",
        "print(f\"Error writing to file: {e}\"): If an IOError occurs during writing, this error message is printed.\n",
        "Reading from the file:\n",
        "try...except IOError as e:: This block handles potential IOError exceptions during reading.\n",
        "with open(filename, \"r\") as file:: This opens the specified file in read mode (\"r\").\n",
        "file_content = file.read(): This reads the entire content of the file and stores it in the file_content variable.\n",
        "print(f\"\\nContent of '{filename}':\"): This prints a header indicating the content of the file.\n",
        "print(file_content): This prints the content read from the file.\n",
        "print(f\"Error reading from file: {e}\"): If an IOError occurs during reading, this error message is printed.\n"
      ],
      "metadata": {
        "id": "bvNzO2GxXLsX"
      }
    },
    {
      "cell_type": "code",
      "source": [],
      "metadata": {
        "id": "mb2pUAQyXIDO"
      },
      "execution_count": null,
      "outputs": []
    },
    {
      "cell_type": "markdown",
      "source": [
        "task4:Write a Python program for a simple calculator using functions:\n",
        "\n",
        "\n",
        "---\n",
        "\n",
        "\n",
        "prompt:\n",
        "Write a Python program for a simple calculator using functions:\n",
        "add, subtract, multiply, divide\n",
        "Ask the user to select an operation and enter two numbers\n",
        "Perform the calculation and print the result."
      ],
      "metadata": {
        "id": "iCZe0qQ2YN3x"
      }
    },
    {
      "cell_type": "code",
      "source": [
        "def add(x, y):\n",
        "  \"\"\"Adds two numbers.\"\"\"\n",
        "  return x + y\n",
        "\n",
        "def subtract(x, y):\n",
        "  \"\"\"Subtracts two numbers.\"\"\"\n",
        "  return x - y\n",
        "\n",
        "def multiply(x, y):\n",
        "  \"\"\"Multiplies two numbers.\"\"\"\n",
        "  return x * y\n",
        "\n",
        "def divide(x, y):\n",
        "  \"\"\"Divides two numbers.\"\"\"\n",
        "  if y == 0:\n",
        "    return \"Error! Division by zero.\"\n",
        "  else:\n",
        "    return x / y\n",
        "\n",
        "print(\"Select operation:\")\n",
        "print(\"1. Add\")\n",
        "print(\"2. Subtract\")\n",
        "print(\"3. Multiply\")\n",
        "print(\"4. Divide\")\n",
        "\n",
        "while True:\n",
        "  choice = input(\"Enter choice(1/2/3/4): \")\n",
        "\n",
        "  if choice in ('1', '2', '3', '4'):\n",
        "    try:\n",
        "      num1 = float(input(\"Enter first number: \"))\n",
        "      num2 = float(input(\"Enter second number: \"))\n",
        "    except ValueError:\n",
        "      print(\"Invalid input. Please enter numbers.\")\n",
        "      continue\n",
        "\n",
        "    if choice == '1':\n",
        "      print(f\"{num1} + {num2} = {add(num1, num2)}\")\n",
        "    elif choice == '2':\n",
        "      print(f\"{num1} - {num2} = {subtract(num1, num2)}\")\n",
        "    elif choice == '3':\n",
        "      print(f\"{num1} * {num2} = {multiply(num1, num2)}\")\n",
        "    elif choice == '4':\n",
        "      print(f\"{num1} / {num2} = {divide(num1, num2)}\")\n",
        "\n",
        "    next_calculation = input(\"Do you want to perform another calculation? (yes/no): \")\n",
        "    if next_calculation.lower() != 'yes':\n",
        "      break\n",
        "  else:\n",
        "    print(\"Invalid Input\")"
      ],
      "metadata": {
        "colab": {
          "base_uri": "https://localhost:8080/"
        },
        "id": "wGpaHmI1Z-OR",
        "outputId": "36015ad1-1430-4abf-a395-869e8b18f5ce"
      },
      "execution_count": 7,
      "outputs": [
        {
          "name": "stdout",
          "output_type": "stream",
          "text": [
            "Select operation:\n",
            "1. Add\n",
            "2. Subtract\n",
            "3. Multiply\n",
            "4. Divide\n",
            "Enter choice(1/2/3/4): 1\n",
            "Enter first number: 22\n",
            "Enter second number: 18\n",
            "22.0 + 18.0 = 40.0\n",
            "Do you want to perform another calculation? (yes/no): no\n"
          ]
        }
      ]
    },
    {
      "cell_type": "markdown",
      "source": [
        "**explaination**\n",
        "Function Definitions:\n",
        "def add(x, y):, def subtract(x, y):, def multiply(x, y):, def divide(x, y):: These lines define four functions, one for each basic arithmetic operation. Each function takes two arguments (x and y) and returns the result of the operation. The divide function includes a check to prevent division by zero.\n",
        "User Interface:\n",
        "print(\"Select operation:\") and the following print statements display the available operations to the user.\n",
        "Input Loop:\n",
        "while True:: This creates an infinite loop that continues until the user chooses to exit.\n",
        "choice = input(\"Enter choice(1/2/3/4): \"): This line prompts the user to enter their choice of operation.\n",
        "if choice in ('1', '2', '3', '4'):: This checks if the user's input is one of the valid choices.\n",
        "Getting Numbers:\n",
        "try...except ValueError:: This block handles potential ValueError exceptions if the user enters non-numeric input for the numbers.\n",
        "num1 = float(input(\"Enter first number: \")) and num2 = float(input(\"Enter second number: \")): These lines prompt the user to enter the two numbers for the calculation and convert them to floating-point numbers using float().\n",
        "Performing Calculation:\n",
        "The if/elif/else block checks the user's choice and calls the corresponding arithmetic function with num1 and num2.\n",
        "print(f\"{num1} + {num2} = {add(num1, num2)}\") (and similar lines for other operations) prints the calculation and the result in a formatted string.\n",
        "Continuing or Exiting:\n",
        "next_calculation = input(\"Do you want to perform another calculation? (yes/no): \"): This asks the user if they want to perform another calculation.\n",
        "if next_calculation.lower() != 'yes': break: If the user enters anything other than \"yes\" (case-insensitive), the break statement exits the while loop, ending the program.\n",
        "Invalid Input:\n",
        "else: print(\"Invalid Input\"): If the user's initial choice is not one of the valid options, this line prints an \"Invalid Input\" message.\n"
      ],
      "metadata": {
        "id": "-nxi8qg_XGnP"
      }
    },
    {
      "cell_type": "markdown",
      "source": [
        "task 5 :Write a Python program that checks if a given year is a leap year.\n",
        "\n",
        "\n",
        "---\n",
        "\n",
        "prompt:\n",
        "Write a Python program that checks if a given year is a leap year."
      ],
      "metadata": {
        "id": "wmmHbCTlagAn"
      }
    },
    {
      "cell_type": "code",
      "source": [
        "def is_leap_year(year):\n",
        "  \"\"\"\n",
        "  Checks if a given year is a leap year.\n",
        "\n",
        "  Args:\n",
        "    year: The year to check.\n",
        "\n",
        "  Returns:\n",
        "    True if the year is a leap year, False otherwise.\n",
        "  \"\"\"\n",
        "  # Leap years are divisible by 4\n",
        "  # but not by 100, unless they are also divisible by 400.\n",
        "  return (year % 4 == 0 and year % 100 != 0) or (year % 400 == 0)\n",
        "\n",
        "# Example usage:\n",
        "year = 2024\n",
        "if is_leap_year(year):\n",
        "  print(f\"{year} is a leap year.\")\n",
        "else:\n",
        "  print(f\"{year} is not a leap year.\")\n",
        "\n",
        "year = 1900\n",
        "if is_leap_year(year):\n",
        "  print(f\"{year} is a leap year.\")\n",
        "else:\n",
        "  print(f\"{year} is not a leap year.\")\n",
        "\n",
        "year = 2000\n",
        "if is_leap_year(year):\n",
        "  print(f\"{year} is a leap year.\")\n",
        "else:\n",
        "  print(f\"{year} is not a leap year.\")"
      ],
      "metadata": {
        "colab": {
          "base_uri": "https://localhost:8080/"
        },
        "id": "Ribi4GJOarw0",
        "outputId": "e01fa74c-2231-4126-ab2f-24acc0764b08"
      },
      "execution_count": 8,
      "outputs": [
        {
          "output_type": "stream",
          "name": "stdout",
          "text": [
            "2024 is a leap year.\n",
            "1900 is not a leap year.\n",
            "2000 is a leap year.\n"
          ]
        }
      ]
    },
    {
      "cell_type": "markdown",
      "source": [
        "**explaination**\n",
        "is_leap_year(year) function:\n",
        "This function takes one argument, year, which is the year to be checked.\n",
        "\"\"\"Docstring\"\"\": This is a docstring explaining what the function does, its arguments, and what it returns.\n",
        "return (year % 4 == 0 and year % 100 != 0) or (year % 400 == 0): This is the core logic of the function. It implements the rules for determining a leap year:\n",
        "A year is a leap year if it is divisible by 4 (year % 4 == 0).\n",
        "However, if it is divisible by 100 (year % 100 == 0), it is not a leap year, unless...\n",
        "...it is also divisible by 400 (year % 400 == 0).\n",
        "The and and or operators combine these conditions according to the rules.\n",
        "Example usage:\n",
        "The code then demonstrates how to use the is_leap_year function with three different years: 2024, 1900, and 2000.\n",
        "For each year, it calls the function and prints a message indicating whether the year is a leap year or not based on the boolean value returned by the function."
      ],
      "metadata": {
        "id": "cPw98MwGa56I"
      }
    }
  ]
}